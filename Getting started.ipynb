{
 "cells": [
  {
   "cell_type": "code",
   "execution_count": 16,
   "metadata": {},
   "outputs": [
    {
     "data": {
      "text/plain": [
       "<qdrant_client.qdrant_client.QdrantClient at 0x1f9024e5490>"
      ]
     },
     "execution_count": 16,
     "metadata": {},
     "output_type": "execute_result"
    }
   ],
   "source": [
    "from qdrant_client import QdrantClient\n",
    "from qdrant_client.http import models\n",
    "from qdrant_client.http.models import CollectionStatus\n",
    "\n",
    "client = QdrantClient(host=\"localhost\", port=6333)\n",
    "client"
   ]
  },
  {
   "cell_type": "code",
   "execution_count": 17,
   "metadata": {},
   "outputs": [
    {
     "name": "stdout",
     "output_type": "stream",
     "text": [
      "True\n"
     ]
    },
    {
     "name": "stderr",
     "output_type": "stream",
     "text": [
      "C:\\Users\\Admin\\AppData\\Local\\Temp\\ipykernel_18168\\895106094.py:5: DeprecationWarning: `recreate_collection` method is deprecated and will be removed in the future. Use `collection_exists` to check collection existence and `create_collection` instead.\n",
      "  first_collection = client.recreate_collection(\n"
     ]
    }
   ],
   "source": [
    "# Let's create our first collection\n",
    "\n",
    "my_collection = \"first_collection\"\n",
    "\n",
    "first_collection = client.recreate_collection(\n",
    "    collection_name=my_collection,\n",
    "    vectors_config=models.VectorParams(size=100, distance=models.Distance.COSINE)\n",
    ")\n",
    "print(first_collection)"
   ]
  },
  {
   "cell_type": "code",
   "execution_count": 18,
   "metadata": {},
   "outputs": [
    {
     "data": {
      "text/plain": [
       "[('status', <CollectionStatus.GREEN: 'green'>),\n",
       " ('optimizer_status', <OptimizersStatusOneOf.OK: 'ok'>),\n",
       " ('vectors_count', None),\n",
       " ('indexed_vectors_count', 0),\n",
       " ('points_count', 0),\n",
       " ('segments_count', 8),\n",
       " ('config',\n",
       "  CollectionConfig(params=CollectionParams(vectors=VectorParams(size=100, distance=<Distance.COSINE: 'Cosine'>, hnsw_config=None, quantization_config=None, on_disk=None, datatype=None), shard_number=1, sharding_method=None, replication_factor=1, write_consistency_factor=1, read_fan_out_factor=None, on_disk_payload=True, sparse_vectors=None), hnsw_config=HnswConfig(m=16, ef_construct=100, full_scan_threshold=10000, max_indexing_threads=0, on_disk=False, payload_m=None), optimizer_config=OptimizersConfig(deleted_threshold=0.2, vacuum_min_vector_number=1000, default_segment_number=0, max_segment_size=None, memmap_threshold=None, indexing_threshold=20000, flush_interval_sec=5, max_optimization_threads=None), wal_config=WalConfig(wal_capacity_mb=32, wal_segments_ahead=0), quantization_config=None)),\n",
       " ('payload_schema', {})]"
      ]
     },
     "execution_count": 18,
     "metadata": {},
     "output_type": "execute_result"
    }
   ],
   "source": [
    "collection_info = client.get_collection(collection_name=my_collection)\n",
    "list(collection_info)"
   ]
  },
  {
   "cell_type": "code",
   "execution_count": 19,
   "metadata": {},
   "outputs": [],
   "source": [
    "assert collection_info.status == CollectionStatus.GREEN\n",
    "assert collection_info.vectors_count == None"
   ]
  },
  {
   "cell_type": "markdown",
   "metadata": {},
   "source": [
    "# Adding points"
   ]
  },
  {
   "cell_type": "code",
   "execution_count": 20,
   "metadata": {},
   "outputs": [],
   "source": [
    "import numpy as np"
   ]
  },
  {
   "cell_type": "code",
   "execution_count": 21,
   "metadata": {},
   "outputs": [
    {
     "data": {
      "text/plain": [
       "(numpy.float64,\n",
       " array([[ 0.71244486, -0.50107936,  0.12391711, -0.4517674 , -0.69019078,\n",
       "          0.79937544,  0.14699948,  0.09496133, -0.65802617,  0.29755816,\n",
       "          0.74537842,  0.56492299,  0.92635142, -0.84504117, -0.55715399,\n",
       "         -0.01498292,  0.13322574, -0.27071789, -0.52762162,  0.78240913],\n",
       "        [-0.42836013,  0.40353968, -0.82514205, -0.43050681,  0.80399298,\n",
       "          0.74842065, -0.23003923, -0.55834748, -0.45542012, -0.67748674,\n",
       "         -0.39835459, -0.05760136, -0.82121022, -0.29297294, -0.78482415,\n",
       "          0.21734489,  0.72562375, -0.52893372,  0.36432622, -0.48219598]]),\n",
       " 100)"
      ]
     },
     "execution_count": 21,
     "metadata": {},
     "output_type": "execute_result"
    }
   ],
   "source": [
    "data = np.random.uniform(low=-1.0, high=1.0, size=(1_000, 100))\n",
    "type(data[0, 0]), data[:2, :20], len(data[0])"
   ]
  },
  {
   "cell_type": "code",
   "execution_count": 22,
   "metadata": {},
   "outputs": [
    {
     "data": {
      "text/plain": [
       "[990, 991, 992, 993, 994, 995, 996, 997, 998, 999]"
      ]
     },
     "execution_count": 22,
     "metadata": {},
     "output_type": "execute_result"
    }
   ],
   "source": [
    "index = list(range(len(data)))\n",
    "index[-10:]"
   ]
  },
  {
   "cell_type": "code",
   "execution_count": 23,
   "metadata": {},
   "outputs": [
    {
     "data": {
      "text/plain": [
       "UpdateResult(operation_id=0, status=<UpdateStatus.COMPLETED: 'completed'>)"
      ]
     },
     "execution_count": 23,
     "metadata": {},
     "output_type": "execute_result"
    }
   ],
   "source": [
    "client.upsert(\n",
    "    collection_name=my_collection,\n",
    "    points=models.Batch(\n",
    "        ids=index,\n",
    "        vectors=data.tolist()\n",
    "    )\n",
    ")"
   ]
  },
  {
   "cell_type": "code",
   "execution_count": 24,
   "metadata": {},
   "outputs": [
    {
     "data": {
      "text/plain": [
       "[Record(id=100, payload={}, vector=[-0.025133813, -0.106980145, 0.14892611, 0.011296607, 0.10271142, 0.094712034, -0.13835452, -0.15864046, -0.02622933, -0.11880851, 0.030190885, 0.028164558, -0.16372004, -0.18040568, 0.17232695, -0.061910424, -0.0012277651, -0.06298824, 0.07028838, -0.022066537, -0.14195219, 0.026955362, 0.10088724, 0.063020594, 0.0826999, -0.020799577, 0.11952137, 0.061504725, -0.063839085, 0.11425105, 0.17082217, -0.15450312, -0.10211645, 0.059065275, 0.047303163, -0.026399296, -0.1591974, -0.07376001, 0.014031549, -0.016406812, 0.14387935, 0.075568765, -0.04003736, -0.14071606, 0.022911012, 0.07171648, -0.09659579, -0.051002927, 0.12590568, 0.08411448, 0.036869075, -0.18063681, -0.14987484, -0.076828726, 0.051165815, 0.07265047, 0.11277705, -0.110590614, -0.15470491, -0.041771907, -0.07485027, -0.172346, -0.034819797, -0.12862542, 0.108487196, -0.0712643, -0.12983328, -0.07600198, 0.091493234, -0.03629605, -0.15963806, 0.05366608, -0.03263417, -0.066000365, -0.1006954, -0.07612596, -0.011998589, 0.070540585, 0.07766662, 0.16131352, 0.079359315, -0.015706375, -0.10169373, 0.11651818, 0.0065881205, 0.048846424, 0.08871433, -0.16320309, -0.09672875, 0.056292415, 0.1793703, 0.14593509, 0.061806425, -0.09842545, 0.050051223, 0.029494764, 0.044202063, -0.15345056, 0.11947289, -0.12631968], shard_key=None)]"
      ]
     },
     "execution_count": 24,
     "metadata": {},
     "output_type": "execute_result"
    }
   ],
   "source": [
    "client.retrieve(\n",
    "    collection_name=my_collection,\n",
    "    ids=[100],\n",
    "    with_vectors=True # the default is False\n",
    ")"
   ]
  },
  {
   "cell_type": "code",
   "execution_count": 28,
   "metadata": {},
   "outputs": [
    {
     "data": {
      "text/plain": [
       "UpdateResult(operation_id=3, status=<UpdateStatus.COMPLETED: 'completed'>)"
      ]
     },
     "execution_count": 28,
     "metadata": {},
     "output_type": "execute_result"
    }
   ],
   "source": [
    "# update the collection one point at a time\n",
    "\n",
    "def create_song():\n",
    "    return np.random.uniform(low=-1.0, high=1.0, size=100).tolist()\n",
    "\n",
    "client.upsert(\n",
    "    collection_name=my_collection,\n",
    "    points=[\n",
    "        models.PointStruct(\n",
    "            id=1000,\n",
    "            vector=create_song(),\n",
    "        )\n",
    "    ]\n",
    ")"
   ]
  },
  {
   "cell_type": "code",
   "execution_count": 29,
   "metadata": {},
   "outputs": [
    {
     "name": "stdout",
     "output_type": "stream",
     "text": [
      "count=1001\n",
      "count=1000\n"
     ]
    }
   ],
   "source": [
    "# We can also delete a point in a straightforward fashion.\n",
    "\n",
    "# this will show the amount of vectors BEFORE deleting the one we just created\n",
    "print(client.count(\n",
    "    collection_name=my_collection, \n",
    "    exact=True,\n",
    "))\n",
    "\n",
    "client.delete(\n",
    "    collection_name=my_collection,\n",
    "    points_selector=models.PointIdsList(\n",
    "        points=[1000],\n",
    "    ),\n",
    ")\n",
    "\n",
    "print(client.count(\n",
    "    collection_name=my_collection, \n",
    "    exact=True,\n",
    "))"
   ]
  },
  {
   "cell_type": "markdown",
   "metadata": {},
   "source": [
    "# Payloads"
   ]
  },
  {
   "cell_type": "code",
   "execution_count": 30,
   "metadata": {},
   "outputs": [
    {
     "data": {
      "text/plain": [
       "'Daniel Molina'"
      ]
     },
     "execution_count": 30,
     "metadata": {},
     "output_type": "execute_result"
    }
   ],
   "source": [
    "from faker import Faker\n",
    "\n",
    "fake_something = Faker()\n",
    "fake_something.name()"
   ]
  },
  {
   "cell_type": "code",
   "execution_count": 31,
   "metadata": {},
   "outputs": [
    {
     "data": {
      "text/plain": [
       "[{'artist': 'Judy Jackson',\n",
       "  'song': 'home around another',\n",
       "  'url_song': 'http://www.sanchez.org/',\n",
       "  'year': '2003',\n",
       "  'country': 'Algeria'},\n",
       " {'artist': 'Allen Ayala III',\n",
       "  'song': 'back level improve',\n",
       "  'url_song': 'http://www.vincent.com/',\n",
       "  'year': '2007',\n",
       "  'country': 'Guyana'},\n",
       " {'artist': 'Kayla Ruiz',\n",
       "  'song': 'organization not three',\n",
       "  'url_song': 'https://cantu.biz/',\n",
       "  'year': '1989',\n",
       "  'country': 'Costa Rica'}]"
      ]
     },
     "execution_count": 31,
     "metadata": {},
     "output_type": "execute_result"
    }
   ],
   "source": [
    "payload = []\n",
    "\n",
    "for i in range(len(data)):\n",
    "    payload.append(\n",
    "        {\n",
    "            \"artist\":   fake_something.name(),\n",
    "            \"song\":     \" \".join(fake_something.words()),\n",
    "            \"url_song\": fake_something.url(),\n",
    "            \"year\":     fake_something.year(),\n",
    "            \"country\":  fake_something.country()\n",
    "        }\n",
    "    )\n",
    "\n",
    "payload[:3]"
   ]
  },
  {
   "cell_type": "code",
   "execution_count": 32,
   "metadata": {},
   "outputs": [
    {
     "data": {
      "text/plain": [
       "UpdateResult(operation_id=5, status=<UpdateStatus.COMPLETED: 'completed'>)"
      ]
     },
     "execution_count": 32,
     "metadata": {},
     "output_type": "execute_result"
    }
   ],
   "source": [
    "client.upsert(\n",
    "    collection_name=my_collection,\n",
    "    points=models.Batch(\n",
    "        ids=index,\n",
    "        vectors=data.tolist(),\n",
    "        payloads=payload\n",
    "    )\n",
    ")"
   ]
  },
  {
   "cell_type": "code",
   "execution_count": 35,
   "metadata": {},
   "outputs": [
    {
     "data": {
      "text/plain": [
       "(list,\n",
       " [Record(id=10, payload={'artist': 'Ethan Daniels', 'country': 'Philippines', 'song': 'executive sister dog', 'url_song': 'https://www.robertson-ruiz.biz/', 'year': '2010'}, vector=None, shard_key=None),\n",
       "  Record(id=50, payload={'artist': 'Douglas Hill', 'country': 'Holy See (Vatican City State)', 'song': 'determine several hit', 'url_song': 'https://hale.com/', 'year': '2005'}, vector=None, shard_key=None),\n",
       "  Record(id=100, payload={'artist': 'Katie Kennedy', 'country': 'Djibouti', 'song': 'outside main teacher', 'url_song': 'https://henderson-bell.com/', 'year': '2006'}, vector=None, shard_key=None),\n",
       "  Record(id=500, payload={'artist': 'Travis Herrera', 'country': 'Pakistan', 'song': 'which little many', 'url_song': 'https://bush.info/', 'year': '1986'}, vector=None, shard_key=None)])"
      ]
     },
     "execution_count": 35,
     "metadata": {},
     "output_type": "execute_result"
    }
   ],
   "source": [
    "resutls = client.retrieve(\n",
    "    collection_name=my_collection,\n",
    "    ids=[10, 50, 100, 500],\n",
    "    with_vectors=False\n",
    ")\n",
    "\n",
    "type(resutls), resutls"
   ]
  },
  {
   "cell_type": "markdown",
   "metadata": {},
   "source": [
    "# Search"
   ]
  },
  {
   "cell_type": "code",
   "execution_count": 39,
   "metadata": {},
   "outputs": [],
   "source": [
    "living_la_vida_loca = create_song()"
   ]
  },
  {
   "cell_type": "code",
   "execution_count": 43,
   "metadata": {},
   "outputs": [
    {
     "data": {
      "text/plain": [
       "[ScoredPoint(id=330, version=5, score=0.2840498, payload={'artist': 'Tracey Garcia', 'country': 'Serbia', 'song': 'note speech director', 'url_song': 'http://rivera-donaldson.com/', 'year': '1994'}, vector=None, shard_key=None),\n",
       " ScoredPoint(id=57, version=5, score=0.27313703, payload={'artist': 'Kenneth Fields', 'country': 'Algeria', 'song': 'south record soldier', 'url_song': 'http://hart.com/', 'year': '1970'}, vector=None, shard_key=None),\n",
       " ScoredPoint(id=451, version=5, score=0.27036247, payload={'artist': 'Tony Davis', 'country': 'North Macedonia', 'song': 'others once leave', 'url_song': 'http://costa-cooper.com/', 'year': '1970'}, vector=None, shard_key=None)]"
      ]
     },
     "execution_count": 43,
     "metadata": {},
     "output_type": "execute_result"
    }
   ],
   "source": [
    "client.search(\n",
    "    collection_name=my_collection,\n",
    "    query_vector=living_la_vida_loca,\n",
    "    limit=3\n",
    ")"
   ]
  },
  {
   "cell_type": "markdown",
   "metadata": {},
   "source": [
    "# Text Data\n",
    "\n",
    "`pip install qdrant-client transformers datasets torch sentence-transformers`"
   ]
  },
  {
   "cell_type": "code",
   "execution_count": 45,
   "metadata": {},
   "outputs": [
    {
     "name": "stderr",
     "output_type": "stream",
     "text": [
      "Downloading readme: 100%|██████████| 8.07k/8.07k [00:00<?, ?B/s]\n",
      "Downloading data: 100%|██████████| 18.6M/18.6M [00:01<00:00, 16.2MB/s]\n",
      "Downloading data: 100%|██████████| 1.23M/1.23M [00:00<00:00, 4.61MB/s]\n",
      "Generating train split: 100%|██████████| 120000/120000 [00:00<00:00, 1939457.91 examples/s]\n",
      "Generating test split: 100%|██████████| 7600/7600 [00:00<00:00, 1463509.96 examples/s]\n"
     ]
    },
    {
     "data": {
      "text/plain": [
       "Dataset({\n",
       "    features: ['text', 'label'],\n",
       "    num_rows: 120000\n",
       "})"
      ]
     },
     "execution_count": 45,
     "metadata": {},
     "output_type": "execute_result"
    }
   ],
   "source": [
    "from datasets import load_dataset\n",
    "\n",
    "dataset = load_dataset(\"ag_news\", split=\"train\")\n",
    "dataset"
   ]
  },
  {
   "cell_type": "code",
   "execution_count": 47,
   "metadata": {},
   "outputs": [
    {
     "name": "stdout",
     "output_type": "stream",
     "text": [
      "Sample 1: 91241\n",
      "======================================================================\n",
      "NASA scramjet to attempt Mach 10 flight NASA is hoping to break new speed records later today when it will set loose its third X-43A  quot;scramjet #39; #39; over the Pacific Ocean.\n",
      "\n",
      "Sample 2: 93176\n",
      "======================================================================\n",
      "Specter Gets Hatch Support to Chair Panel (AP) AP - Sen. Arlen Specter gained ground Tuesday toward winning the Senate Judiciary Committee chairmanship, which was thrown into doubt after he said judges who oppose abortion rights would face confirmation problems.\n",
      "\n",
      "Sample 3: 91904\n",
      "======================================================================\n",
      "BEA Releases Enhanced Beehive Open-Source Framework LAS VEGASBEA Systems Inc. has made significant progress in the development of the Apache Beehive component model, which is designed to help accelerate the development of Web services and SOA (service-oriented architecture) applications.\n",
      "\n",
      "Sample 4: 72892\n",
      "======================================================================\n",
      "Tech Briefs Shares of Google rose 8.7 percent in the second trading session after the company said third-quarter profit more than doubled. The shares rose \\$14.\n",
      "\n",
      "Sample 5: 101449\n",
      "======================================================================\n",
      "Troussier for Marseille boss Philippe Troussier and Olympique de Marseille have reached an  quot;agreement in principle quot; for the Frenchman to take over the reins at the troubled outfit.\n",
      "\n"
     ]
    }
   ],
   "source": [
    "from random import choice\n",
    "\n",
    "for i in range(5):\n",
    "    random_sample = choice(range(len(dataset)))\n",
    "    print(f\"Sample {i+1}: {random_sample}\")\n",
    "    print(\"=\" * 70)\n",
    "    print(dataset[random_sample]['text'])\n",
    "    print()"
   ]
  },
  {
   "cell_type": "code",
   "execution_count": 52,
   "metadata": {},
   "outputs": [
    {
     "data": {
      "text/plain": [
       "{'0': 'World', '1': 'Sports', '2': 'Business', '3': 'Sci/Tech'}"
      ]
     },
     "execution_count": 52,
     "metadata": {},
     "output_type": "execute_result"
    }
   ],
   "source": [
    "id2label = {str(i): label for i, label in enumerate(dataset.features[\"label\"].names)}\n",
    "id2label"
   ]
  },
  {
   "cell_type": "markdown",
   "metadata": {},
   "source": [
    "`pip install matplotlib`"
   ]
  },
  {
   "cell_type": "code",
   "execution_count": 55,
   "metadata": {},
   "outputs": [
    {
     "data": {
      "text/plain": [
       "<Axes: title={'center': 'Frequency with which each label appears'}, ylabel='label'>"
      ]
     },
     "execution_count": 55,
     "metadata": {},
     "output_type": "execute_result"
    },
    {
     "data": {
      "image/png": "[encoded data removed]",
      "text/plain": [
       "<Figure size 640x480 with 1 Axes>"
      ]
     },
     "metadata": {},
     "output_type": "display_data"
    }
   ],
   "source": [
    "(\n",
    "    dataset.select_columns('label')\n",
    "           .to_pandas()\n",
    "           .astype(str)['label']\n",
    "           .map(id2label)\n",
    "           .value_counts()\n",
    "           .plot(kind=\"barh\", title=\"Frequency with which each label appears\")\n",
    ")"
   ]
  }
 ],
 "metadata": {
  "kernelspec": {
   "display_name": "venv",
   "language": "python",
   "name": "python3"
  },
  "language_info": {
   "codemirror_mode": {
    "name": "ipython",
    "version": 3
   },
   "file_extension": ".py",
   "mimetype": "text/x-python",
   "name": "python",
   "nbconvert_exporter": "python",
   "pygments_lexer": "ipython3",
   "version": "3.12.3"
  }
 },
 "nbformat": 4,
 "nbformat_minor": 2
}
