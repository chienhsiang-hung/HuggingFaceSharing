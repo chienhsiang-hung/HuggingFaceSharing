{
 "cells": [
  {
   "cell_type": "code",
   "execution_count": 16,
   "metadata": {},
   "outputs": [
    {
     "data": {
      "text/plain": [
       "<qdrant_client.qdrant_client.QdrantClient at 0x1f9024e5490>"
      ]
     },
     "execution_count": 16,
     "metadata": {},
     "output_type": "execute_result"
    }
   ],
   "source": [
    "from qdrant_client import QdrantClient\n",
    "from qdrant_client.http import models\n",
    "from qdrant_client.http.models import CollectionStatus\n",
    "\n",
    "client = QdrantClient(host=\"localhost\", port=6333)\n",
    "client"
   ]
  },
  {
   "cell_type": "code",
   "execution_count": 17,
   "metadata": {},
   "outputs": [
    {
     "name": "stdout",
     "output_type": "stream",
     "text": [
      "True\n"
     ]
    },
    {
     "name": "stderr",
     "output_type": "stream",
     "text": [
      "C:\\Users\\Admin\\AppData\\Local\\Temp\\ipykernel_18168\\895106094.py:5: DeprecationWarning: `recreate_collection` method is deprecated and will be removed in the future. Use `collection_exists` to check collection existence and `create_collection` instead.\n",
      "  first_collection = client.recreate_collection(\n"
     ]
    }
   ],
   "source": [
    "# Let's create our first collection\n",
    "\n",
    "my_collection = \"first_collection\"\n",
    "\n",
    "first_collection = client.recreate_collection(\n",
    "    collection_name=my_collection,\n",
    "    vectors_config=models.VectorParams(size=100, distance=models.Distance.COSINE)\n",
    ")\n",
    "print(first_collection)"
   ]
  },
  {
   "cell_type": "code",
   "execution_count": 18,
   "metadata": {},
   "outputs": [
    {
     "data": {
      "text/plain": [
       "[('status', <CollectionStatus.GREEN: 'green'>),\n",
       " ('optimizer_status', <OptimizersStatusOneOf.OK: 'ok'>),\n",
       " ('vectors_count', None),\n",
       " ('indexed_vectors_count', 0),\n",
       " ('points_count', 0),\n",
       " ('segments_count', 8),\n",
       " ('config',\n",
       "  CollectionConfig(params=CollectionParams(vectors=VectorParams(size=100, distance=<Distance.COSINE: 'Cosine'>, hnsw_config=None, quantization_config=None, on_disk=None, datatype=None), shard_number=1, sharding_method=None, replication_factor=1, write_consistency_factor=1, read_fan_out_factor=None, on_disk_payload=True, sparse_vectors=None), hnsw_config=HnswConfig(m=16, ef_construct=100, full_scan_threshold=10000, max_indexing_threads=0, on_disk=False, payload_m=None), optimizer_config=OptimizersConfig(deleted_threshold=0.2, vacuum_min_vector_number=1000, default_segment_number=0, max_segment_size=None, memmap_threshold=None, indexing_threshold=20000, flush_interval_sec=5, max_optimization_threads=None), wal_config=WalConfig(wal_capacity_mb=32, wal_segments_ahead=0), quantization_config=None)),\n",
       " ('payload_schema', {})]"
      ]
     },
     "execution_count": 18,
     "metadata": {},
     "output_type": "execute_result"
    }
   ],
   "source": [
    "collection_info = client.get_collection(collection_name=my_collection)\n",
    "list(collection_info)"
   ]
  },
  {
   "cell_type": "code",
   "execution_count": 19,
   "metadata": {},
   "outputs": [],
   "source": [
    "assert collection_info.status == CollectionStatus.GREEN\n",
    "assert collection_info.vectors_count == None"
   ]
  },
  {
   "cell_type": "markdown",
   "metadata": {},
   "source": [
    "# Adding points"
   ]
  },
  {
   "cell_type": "code",
   "execution_count": 20,
   "metadata": {},
   "outputs": [],
   "source": [
    "import numpy as np"
   ]
  },
  {
   "cell_type": "code",
   "execution_count": 21,
   "metadata": {},
   "outputs": [
    {
     "data": {
      "text/plain": [
       "(numpy.float64,\n",
       " array([[ 0.71244486, -0.50107936,  0.12391711, -0.4517674 , -0.69019078,\n",
       "          0.79937544,  0.14699948,  0.09496133, -0.65802617,  0.29755816,\n",
       "          0.74537842,  0.56492299,  0.92635142, -0.84504117, -0.55715399,\n",
       "         -0.01498292,  0.13322574, -0.27071789, -0.52762162,  0.78240913],\n",
       "        [-0.42836013,  0.40353968, -0.82514205, -0.43050681,  0.80399298,\n",
       "          0.74842065, -0.23003923, -0.55834748, -0.45542012, -0.67748674,\n",
       "         -0.39835459, -0.05760136, -0.82121022, -0.29297294, -0.78482415,\n",
       "          0.21734489,  0.72562375, -0.52893372,  0.36432622, -0.48219598]]),\n",
       " 100)"
      ]
     },
     "execution_count": 21,
     "metadata": {},
     "output_type": "execute_result"
    }
   ],
   "source": [
    "data = np.random.uniform(low=-1.0, high=1.0, size=(1_000, 100))\n",
    "type(data[0, 0]), data[:2, :20], len(data[0])"
   ]
  },
  {
   "cell_type": "code",
   "execution_count": 22,
   "metadata": {},
   "outputs": [
    {
     "data": {
      "text/plain": [
       "[990, 991, 992, 993, 994, 995, 996, 997, 998, 999]"
      ]
     },
     "execution_count": 22,
     "metadata": {},
     "output_type": "execute_result"
    }
   ],
   "source": [
    "index = list(range(len(data)))\n",
    "index[-10:]"
   ]
  },
  {
   "cell_type": "code",
   "execution_count": 23,
   "metadata": {},
   "outputs": [
    {
     "data": {
      "text/plain": [
       "UpdateResult(operation_id=0, status=<UpdateStatus.COMPLETED: 'completed'>)"
      ]
     },
     "execution_count": 23,
     "metadata": {},
     "output_type": "execute_result"
    }
   ],
   "source": [
    "client.upsert(\n",
    "    collection_name=my_collection,\n",
    "    points=models.Batch(\n",
    "        ids=index,\n",
    "        vectors=data.tolist()\n",
    "    )\n",
    ")"
   ]
  },
  {
   "cell_type": "code",
   "execution_count": 24,
   "metadata": {},
   "outputs": [
    {
     "data": {
      "text/plain": [
       "[Record(id=100, payload={}, vector=[-0.025133813, -0.106980145, 0.14892611, 0.011296607, 0.10271142, 0.094712034, -0.13835452, -0.15864046, -0.02622933, -0.11880851, 0.030190885, 0.028164558, -0.16372004, -0.18040568, 0.17232695, -0.061910424, -0.0012277651, -0.06298824, 0.07028838, -0.022066537, -0.14195219, 0.026955362, 0.10088724, 0.063020594, 0.0826999, -0.020799577, 0.11952137, 0.061504725, -0.063839085, 0.11425105, 0.17082217, -0.15450312, -0.10211645, 0.059065275, 0.047303163, -0.026399296, -0.1591974, -0.07376001, 0.014031549, -0.016406812, 0.14387935, 0.075568765, -0.04003736, -0.14071606, 0.022911012, 0.07171648, -0.09659579, -0.051002927, 0.12590568, 0.08411448, 0.036869075, -0.18063681, -0.14987484, -0.076828726, 0.051165815, 0.07265047, 0.11277705, -0.110590614, -0.15470491, -0.041771907, -0.07485027, -0.172346, -0.034819797, -0.12862542, 0.108487196, -0.0712643, -0.12983328, -0.07600198, 0.091493234, -0.03629605, -0.15963806, 0.05366608, -0.03263417, -0.066000365, -0.1006954, -0.07612596, -0.011998589, 0.070540585, 0.07766662, 0.16131352, 0.079359315, -0.015706375, -0.10169373, 0.11651818, 0.0065881205, 0.048846424, 0.08871433, -0.16320309, -0.09672875, 0.056292415, 0.1793703, 0.14593509, 0.061806425, -0.09842545, 0.050051223, 0.029494764, 0.044202063, -0.15345056, 0.11947289, -0.12631968], shard_key=None)]"
      ]
     },
     "execution_count": 24,
     "metadata": {},
     "output_type": "execute_result"
    }
   ],
   "source": [
    "client.retrieve(\n",
    "    collection_name=my_collection,\n",
    "    ids=[100],\n",
    "    with_vectors=True # the default is False\n",
    ")"
   ]
  },
  {
   "cell_type": "code",
   "execution_count": 28,
   "metadata": {},
   "outputs": [
    {
     "data": {
      "text/plain": [
       "UpdateResult(operation_id=3, status=<UpdateStatus.COMPLETED: 'completed'>)"
      ]
     },
     "execution_count": 28,
     "metadata": {},
     "output_type": "execute_result"
    }
   ],
   "source": [
    "# update the collection one point at a time\n",
    "\n",
    "def create_song():\n",
    "    return np.random.uniform(low=-1.0, high=1.0, size=100).tolist()\n",
    "\n",
    "client.upsert(\n",
    "    collection_name=my_collection,\n",
    "    points=[\n",
    "        models.PointStruct(\n",
    "            id=1000,\n",
    "            vector=create_song(),\n",
    "        )\n",
    "    ]\n",
    ")"
   ]
  },
  {
   "cell_type": "code",
   "execution_count": 29,
   "metadata": {},
   "outputs": [
    {
     "name": "stdout",
     "output_type": "stream",
     "text": [
      "count=1001\n",
      "count=1000\n"
     ]
    }
   ],
   "source": [
    "# We can also delete a point in a straightforward fashion.\n",
    "\n",
    "# this will show the amount of vectors BEFORE deleting the one we just created\n",
    "print(client.count(\n",
    "    collection_name=my_collection, \n",
    "    exact=True,\n",
    "))\n",
    "\n",
    "client.delete(\n",
    "    collection_name=my_collection,\n",
    "    points_selector=models.PointIdsList(\n",
    "        points=[1000],\n",
    "    ),\n",
    ")\n",
    "\n",
    "print(client.count(\n",
    "    collection_name=my_collection, \n",
    "    exact=True,\n",
    "))"
   ]
  },
  {
   "cell_type": "markdown",
   "metadata": {},
   "source": [
    "# Payloads"
   ]
  },
  {
   "cell_type": "code",
   "execution_count": 30,
   "metadata": {},
   "outputs": [
    {
     "data": {
      "text/plain": [
       "'Daniel Molina'"
      ]
     },
     "execution_count": 30,
     "metadata": {},
     "output_type": "execute_result"
    }
   ],
   "source": [
    "from faker import Faker\n",
    "\n",
    "fake_something = Faker()\n",
    "fake_something.name()"
   ]
  },
  {
   "cell_type": "code",
   "execution_count": 31,
   "metadata": {},
   "outputs": [
    {
     "data": {
      "text/plain": [
       "[{'artist': 'Judy Jackson',\n",
       "  'song': 'home around another',\n",
       "  'url_song': 'http://www.sanchez.org/',\n",
       "  'year': '2003',\n",
       "  'country': 'Algeria'},\n",
       " {'artist': 'Allen Ayala III',\n",
       "  'song': 'back level improve',\n",
       "  'url_song': 'http://www.vincent.com/',\n",
       "  'year': '2007',\n",
       "  'country': 'Guyana'},\n",
       " {'artist': 'Kayla Ruiz',\n",
       "  'song': 'organization not three',\n",
       "  'url_song': 'https://cantu.biz/',\n",
       "  'year': '1989',\n",
       "  'country': 'Costa Rica'}]"
      ]
     },
     "execution_count": 31,
     "metadata": {},
     "output_type": "execute_result"
    }
   ],
   "source": [
    "payload = []\n",
    "\n",
    "for i in range(len(data)):\n",
    "    payload.append(\n",
    "        {\n",
    "            \"artist\":   fake_something.name(),\n",
    "            \"song\":     \" \".join(fake_something.words()),\n",
    "            \"url_song\": fake_something.url(),\n",
    "            \"year\":     fake_something.year(),\n",
    "            \"country\":  fake_something.country()\n",
    "        }\n",
    "    )\n",
    "\n",
    "payload[:3]"
   ]
  },
  {
   "cell_type": "code",
   "execution_count": 32,
   "metadata": {},
   "outputs": [
    {
     "data": {
      "text/plain": [
       "UpdateResult(operation_id=5, status=<UpdateStatus.COMPLETED: 'completed'>)"
      ]
     },
     "execution_count": 32,
     "metadata": {},
     "output_type": "execute_result"
    }
   ],
   "source": [
    "client.upsert(\n",
    "    collection_name=my_collection,\n",
    "    points=models.Batch(\n",
    "        ids=index,\n",
    "        vectors=data.tolist(),\n",
    "        payloads=payload\n",
    "    )\n",
    ")"
   ]
  },
  {
   "cell_type": "code",
   "execution_count": 35,
   "metadata": {},
   "outputs": [
    {
     "data": {
      "text/plain": [
       "(list,\n",
       " [Record(id=10, payload={'artist': 'Ethan Daniels', 'country': 'Philippines', 'song': 'executive sister dog', 'url_song': 'https://www.robertson-ruiz.biz/', 'year': '2010'}, vector=None, shard_key=None),\n",
       "  Record(id=50, payload={'artist': 'Douglas Hill', 'country': 'Holy See (Vatican City State)', 'song': 'determine several hit', 'url_song': 'https://hale.com/', 'year': '2005'}, vector=None, shard_key=None),\n",
       "  Record(id=100, payload={'artist': 'Katie Kennedy', 'country': 'Djibouti', 'song': 'outside main teacher', 'url_song': 'https://henderson-bell.com/', 'year': '2006'}, vector=None, shard_key=None),\n",
       "  Record(id=500, payload={'artist': 'Travis Herrera', 'country': 'Pakistan', 'song': 'which little many', 'url_song': 'https://bush.info/', 'year': '1986'}, vector=None, shard_key=None)])"
      ]
     },
     "execution_count": 35,
     "metadata": {},
     "output_type": "execute_result"
    }
   ],
   "source": [
    "resutls = client.retrieve(\n",
    "    collection_name=my_collection,\n",
    "    ids=[10, 50, 100, 500],\n",
    "    with_vectors=False\n",
    ")\n",
    "\n",
    "type(resutls), resutls"
   ]
  },
  {
   "cell_type": "markdown",
   "metadata": {},
   "source": [
    "# Search"
   ]
  },
  {
   "cell_type": "code",
   "execution_count": 39,
   "metadata": {},
   "outputs": [],
   "source": [
    "living_la_vida_loca = create_song()"
   ]
  },
  {
   "cell_type": "code",
   "execution_count": 43,
   "metadata": {},
   "outputs": [
    {
     "data": {
      "text/plain": [
       "[ScoredPoint(id=330, version=5, score=0.2840498, payload={'artist': 'Tracey Garcia', 'country': 'Serbia', 'song': 'note speech director', 'url_song': 'http://rivera-donaldson.com/', 'year': '1994'}, vector=None, shard_key=None),\n",
       " ScoredPoint(id=57, version=5, score=0.27313703, payload={'artist': 'Kenneth Fields', 'country': 'Algeria', 'song': 'south record soldier', 'url_song': 'http://hart.com/', 'year': '1970'}, vector=None, shard_key=None),\n",
       " ScoredPoint(id=451, version=5, score=0.27036247, payload={'artist': 'Tony Davis', 'country': 'North Macedonia', 'song': 'others once leave', 'url_song': 'http://costa-cooper.com/', 'year': '1970'}, vector=None, shard_key=None)]"
      ]
     },
     "execution_count": 43,
     "metadata": {},
     "output_type": "execute_result"
    }
   ],
   "source": [
    "client.search(\n",
    "    collection_name=my_collection,\n",
    "    query_vector=living_la_vida_loca,\n",
    "    limit=3\n",
    ")"
   ]
  },
  {
   "cell_type": "markdown",
   "metadata": {},
   "source": [
    "# Text Data\n",
    "\n",
    "`pip install qdrant-client transformers datasets torch sentence-transformers`"
   ]
  },
  {
   "cell_type": "code",
   "execution_count": 45,
   "metadata": {},
   "outputs": [
    {
     "name": "stderr",
     "output_type": "stream",
     "text": [
      "Downloading readme: 100%|██████████| 8.07k/8.07k [00:00<?, ?B/s]\n",
      "Downloading data: 100%|██████████| 18.6M/18.6M [00:01<00:00, 16.2MB/s]\n",
      "Downloading data: 100%|██████████| 1.23M/1.23M [00:00<00:00, 4.61MB/s]\n",
      "Generating train split: 100%|██████████| 120000/120000 [00:00<00:00, 1939457.91 examples/s]\n",
      "Generating test split: 100%|██████████| 7600/7600 [00:00<00:00, 1463509.96 examples/s]\n"
     ]
    },
    {
     "data": {
      "text/plain": [
       "Dataset({\n",
       "    features: ['text', 'label'],\n",
       "    num_rows: 120000\n",
       "})"
      ]
     },
     "execution_count": 45,
     "metadata": {},
     "output_type": "execute_result"
    }
   ],
   "source": [
    "from datasets import load_dataset\n",
    "\n",
    "dataset = load_dataset(\"ag_news\", split=\"train\")\n",
    "dataset"
   ]
  },
  {
   "cell_type": "code",
   "execution_count": 47,
   "metadata": {},
   "outputs": [
    {
     "name": "stdout",
     "output_type": "stream",
     "text": [
      "Sample 1: 91241\n",
      "======================================================================\n",
      "NASA scramjet to attempt Mach 10 flight NASA is hoping to break new speed records later today when it will set loose its third X-43A  quot;scramjet #39; #39; over the Pacific Ocean.\n",
      "\n",
      "Sample 2: 93176\n",
      "======================================================================\n",
      "Specter Gets Hatch Support to Chair Panel (AP) AP - Sen. Arlen Specter gained ground Tuesday toward winning the Senate Judiciary Committee chairmanship, which was thrown into doubt after he said judges who oppose abortion rights would face confirmation problems.\n",
      "\n",
      "Sample 3: 91904\n",
      "======================================================================\n",
      "BEA Releases Enhanced Beehive Open-Source Framework LAS VEGASBEA Systems Inc. has made significant progress in the development of the Apache Beehive component model, which is designed to help accelerate the development of Web services and SOA (service-oriented architecture) applications.\n",
      "\n",
      "Sample 4: 72892\n",
      "======================================================================\n",
      "Tech Briefs Shares of Google rose 8.7 percent in the second trading session after the company said third-quarter profit more than doubled. The shares rose \\$14.\n",
      "\n",
      "Sample 5: 101449\n",
      "======================================================================\n",
      "Troussier for Marseille boss Philippe Troussier and Olympique de Marseille have reached an  quot;agreement in principle quot; for the Frenchman to take over the reins at the troubled outfit.\n",
      "\n"
     ]
    }
   ],
   "source": [
    "from random import choice\n",
    "\n",
    "for i in range(5):\n",
    "    random_sample = choice(range(len(dataset)))\n",
    "    print(f\"Sample {i+1}: {random_sample}\")\n",
    "    print(\"=\" * 70)\n",
    "    print(dataset[random_sample]['text'])\n",
    "    print()"
   ]
  },
  {
   "cell_type": "code",
   "execution_count": 52,
   "metadata": {},
   "outputs": [
    {
     "data": {
      "text/plain": [
       "{'0': 'World', '1': 'Sports', '2': 'Business', '3': 'Sci/Tech'}"
      ]
     },
     "execution_count": 52,
     "metadata": {},
     "output_type": "execute_result"
    }
   ],
   "source": [
    "id2label = {str(i): label for i, label in enumerate(dataset.features[\"label\"].names)}\n",
    "id2label"
   ]
  },
  {
   "cell_type": "markdown",
   "metadata": {},
   "source": [
    "`pip install matplotlib`"
   ]
  },
  {
   "cell_type": "code",
   "execution_count": 55,
   "metadata": {},
   "outputs": [
    {
     "data": {
      "text/plain": [
       "<Axes: title={'center': 'Frequency with which each label appears'}, ylabel='label'>"
      ]
     },
     "execution_count": 55,
     "metadata": {},
     "output_type": "execute_result"
    },
    {
     "data": {
      "image/png": "[encoded data removed]",
      "text/plain": [
       "<Figure size 640x480 with 1 Axes>"
      ]
     },
     "metadata": {},
     "output_type": "display_data"
    }
   ],
   "source": [
    "(\n",
    "    dataset.select_columns('label')\n",
    "           .to_pandas()\n",
    "           .astype(str)['label']\n",
    "           .map(id2label)\n",
    "           .value_counts()\n",
    "           .plot(kind=\"barh\", title=\"Frequency with which each label appears\")\n",
    ")"
   ]
  },
  {
   "cell_type": "code",
   "execution_count": 56,
   "metadata": {},
   "outputs": [
    {
     "name": "stderr",
     "output_type": "stream",
     "text": [
      "Map: 100%|██████████| 120000/120000 [00:02<00:00, 54294.20 examples/s]\n"
     ]
    },
    {
     "data": {
      "text/plain": [
       "[144, 266, 232, 256, 234, 239, 215, 252, 414, 147]"
      ]
     },
     "execution_count": 56,
     "metadata": {},
     "output_type": "execute_result"
    }
   ],
   "source": [
    "def get_lenght_of_text(example):\n",
    "    example['length_of_text'] = len(example['text'])\n",
    "    return example\n",
    "\n",
    "dataset = dataset.map(get_lenght_of_text)\n",
    "dataset[:10]['length_of_text']"
   ]
  },
  {
   "cell_type": "code",
   "execution_count": 57,
   "metadata": {},
   "outputs": [
    {
     "data": {
      "text/plain": [
       "<Axes: title={'center': 'Distribution of the Length of News'}, ylabel='Frequency'>"
      ]
     },
     "execution_count": 57,
     "metadata": {},
     "output_type": "execute_result"
    },
    {
     "data": {
      "image/png": "[encoded data removed]",
      "text/plain": [
       "<Figure size 640x480 with 1 Axes>"
      ]
     },
     "metadata": {},
     "output_type": "display_data"
    }
   ],
   "source": [
    "(\n",
    "    dataset.select_columns([\"label\", \"length_of_text\"])\n",
    "           .to_pandas()\n",
    "           .pivot(columns='label', values='length_of_text')\n",
    "           .plot.hist(bins=100, alpha=0.5, title=\"Distribution of the Length of News\")\n",
    ")"
   ]
  },
  {
   "cell_type": "markdown",
   "metadata": {},
   "source": [
    "# Tokenize and embed data using GPT-2"
   ]
  },
  {
   "cell_type": "code",
   "execution_count": 60,
   "metadata": {},
   "outputs": [
    {
     "name": "stderr",
     "output_type": "stream",
     "text": [
      "c:\\Users\\Admin\\HuggingFaceSharing\\venv\\Lib\\site-packages\\huggingface_hub\\file_download.py:148: UserWarning: `huggingface_hub` cache-system uses symlinks by default to efficiently store duplicated files but your machine does not support them in C:\\Users\\Admin\\.cache\\huggingface\\hub\\models--gpt2. Caching files will still work but in a degraded version that might require more space on your disk. This warning can be disabled by setting the `HF_HUB_DISABLE_SYMLINKS_WARNING` environment variable. For more details, see https://huggingface.co/docs/huggingface_hub/how-to-cache#limitations.\n",
      "To support symlinks on Windows, you either need to activate Developer Mode or to run Python as an administrator. In order to see activate developer mode, see this article: https://docs.microsoft.com/en-us/windows/apps/get-started/enable-your-device-for-development\n",
      "  warnings.warn(message)\n"
     ]
    }
   ],
   "source": [
    "from transformers import AutoModel, AutoTokenizer\n",
    "import torch\n",
    "\n",
    "device = torch.device(\"cuda\" if torch.cuda.is_available() else \"cpu\")\n",
    "tokenizer = AutoTokenizer.from_pretrained('gpt2')\n",
    "model = AutoModel.from_pretrained('gpt2')#.to(device) # switch this for GPU"
   ]
  },
  {
   "cell_type": "code",
   "execution_count": 63,
   "metadata": {},
   "outputs": [
    {
     "data": {
      "text/plain": [
       "'<|endoftext|>'"
      ]
     },
     "execution_count": 63,
     "metadata": {},
     "output_type": "execute_result"
    }
   ],
   "source": [
    "tokenizer.eos_token"
   ]
  },
  {
   "cell_type": "code",
   "execution_count": 64,
   "metadata": {},
   "outputs": [],
   "source": [
    "tokenizer.pad_token"
   ]
  },
  {
   "cell_type": "code",
   "execution_count": 65,
   "metadata": {},
   "outputs": [],
   "source": [
    "tokenizer.pad_token = tokenizer.eos_token"
   ]
  },
  {
   "cell_type": "code",
   "execution_count": 66,
   "metadata": {},
   "outputs": [
    {
     "data": {
      "text/plain": [
       "{'input_ids': tensor([[ 2061,   857,   257,  9875,   779,   284,   466, 10688,    30,   317,\n",
       "          9875,    12,  3129,  1352,    13]]), 'attention_mask': tensor([[1, 1, 1, 1, 1, 1, 1, 1, 1, 1, 1, 1, 1, 1, 1]])}"
      ]
     },
     "execution_count": 66,
     "metadata": {},
     "output_type": "execute_result"
    }
   ],
   "source": [
    "text = \"What does a cow use to do math? A cow-culator.\"\n",
    "inputs = tokenizer(text, padding=True, truncation=True, max_length=128, return_tensors=\"pt\")#.to(device)\n",
    "inputs"
   ]
  },
  {
   "cell_type": "code",
   "execution_count": 67,
   "metadata": {},
   "outputs": [
    {
     "data": {
      "text/plain": [
       "['What',\n",
       " 'Ġdoes',\n",
       " 'Ġa',\n",
       " 'Ġcow',\n",
       " 'Ġuse',\n",
       " 'Ġto',\n",
       " 'Ġdo',\n",
       " 'Ġmath',\n",
       " '?',\n",
       " 'ĠA',\n",
       " 'Ġcow',\n",
       " '-',\n",
       " 'cul',\n",
       " 'ator',\n",
       " '.']"
      ]
     },
     "execution_count": 67,
     "metadata": {},
     "output_type": "execute_result"
    }
   ],
   "source": [
    "toks = tokenizer.convert_ids_to_tokens(inputs.input_ids[0])\n",
    "toks"
   ]
  },
  {
   "cell_type": "code",
   "execution_count": 68,
   "metadata": {},
   "outputs": [
    {
     "data": {
      "text/plain": [
       "'What does a cow use to do math? A cow-culator.'"
      ]
     },
     "execution_count": 68,
     "metadata": {},
     "output_type": "execute_result"
    }
   ],
   "source": [
    "tokenizer.convert_tokens_to_string(toks)"
   ]
  },
  {
   "cell_type": "code",
   "execution_count": 69,
   "metadata": {},
   "outputs": [
    {
     "data": {
      "text/plain": [
       "50257"
      ]
     },
     "execution_count": 69,
     "metadata": {},
     "output_type": "execute_result"
    }
   ],
   "source": [
    "tokenizer.vocab_size"
   ]
  },
  {
   "cell_type": "code",
   "execution_count": 70,
   "metadata": {},
   "outputs": [
    {
     "data": {
      "text/plain": [
       "(torch.Size([1, 15, 768]),\n",
       " tensor([[[-0.1643,  0.0957, -0.2844,  ..., -0.1632, -0.0774, -0.2154],\n",
       "          [ 0.0472,  0.2181,  0.0754,  ...,  0.0281,  0.2386, -0.0731],\n",
       "          [-0.1410,  0.1957,  0.5674,  ..., -0.4050,  0.1199, -0.0043],\n",
       "          ...,\n",
       "          [ 0.0686,  0.2000,  0.2881,  ...,  0.2151, -0.5111, -0.2907],\n",
       "          [-0.0662,  0.3934, -0.8001,  ...,  0.2597, -0.1465, -0.1695],\n",
       "          [-0.1900, -0.2704, -0.3135,  ...,  0.3318, -0.4120, -0.0153]]]))"
      ]
     },
     "execution_count": 70,
     "metadata": {},
     "output_type": "execute_result"
    }
   ],
   "source": [
    "with torch.no_grad():\n",
    "    embs = model(**inputs)\n",
    "\n",
    "embs.last_hidden_state.size(), embs[0]"
   ]
  },
  {
   "cell_type": "code",
   "execution_count": 71,
   "metadata": {},
   "outputs": [],
   "source": [
    "def mean_pooling(model_output, attention_mask):\n",
    "\n",
    "    token_embeddings = model_output[0]\n",
    "    input_mask_expanded = (attention_mask.unsqueeze(-1).expand(token_embeddings.size()).float())\n",
    "    sum_embeddings = torch.sum(token_embeddings * input_mask_expanded, 1)\n",
    "    sum_mask = torch.clamp(input_mask_expanded.sum(1), min=1e-9)\n",
    "    return sum_embeddings / sum_mask"
   ]
  },
  {
   "cell_type": "code",
   "execution_count": 72,
   "metadata": {},
   "outputs": [
    {
     "data": {
      "text/plain": [
       "(torch.Size([1, 768]),\n",
       " tensor([-0.2175, -0.0280, -0.4393, -0.0739, -0.1338,  0.3550,  3.4335,  0.1762,\n",
       "         -0.1412,  0.1184]))"
      ]
     },
     "execution_count": 72,
     "metadata": {},
     "output_type": "execute_result"
    }
   ],
   "source": [
    "embedding = mean_pooling(embs, inputs[\"attention_mask\"])\n",
    "embedding.shape, embedding[0, :10]"
   ]
  },
  {
   "cell_type": "code",
   "execution_count": 73,
   "metadata": {},
   "outputs": [],
   "source": [
    "def embed_text(examples):\n",
    "    inputs = tokenizer(\n",
    "        examples[\"text\"], padding=True, truncation=True, return_tensors=\"pt\"\n",
    "    )#.to(device)\n",
    "    with torch.no_grad():\n",
    "        model_output = model(**inputs)\n",
    "    pooled_embeds = mean_pooling(model_output, inputs[\"attention_mask\"])\n",
    "    return {\"embedding\": pooled_embeds.cpu().numpy()}"
   ]
  },
  {
   "cell_type": "code",
   "execution_count": 74,
   "metadata": {},
   "outputs": [
    {
     "name": "stderr",
     "output_type": "stream",
     "text": [
      "Map: 100%|██████████| 1000/1000 [01:47<00:00,  9.28 examples/s]\n"
     ]
    },
    {
     "data": {
      "text/plain": [
       "Dataset({\n",
       "    features: ['text', 'label', 'length_of_text', 'embedding'],\n",
       "    num_rows: 1000\n",
       "})"
      ]
     },
     "execution_count": 74,
     "metadata": {},
     "output_type": "execute_result"
    }
   ],
   "source": [
    "small_set = (\n",
    "    dataset.shuffle(42) # randomly shuffles the data, 42 is the seed\n",
    "           .select(range(1000)) # we'll take 1k rows\n",
    "           .map(embed_text, batched=True, batch_size=128) # and apply our function above to 128 articles at a time\n",
    ")\n",
    "small_set"
   ]
  },
  {
   "cell_type": "code",
   "execution_count": 75,
   "metadata": {},
   "outputs": [
    {
     "data": {
      "text/plain": [
       "Dataset({\n",
       "    features: ['text', 'label', 'length_of_text', 'embedding', 'idx'],\n",
       "    num_rows: 1000\n",
       "})"
      ]
     },
     "execution_count": 75,
     "metadata": {},
     "output_type": "execute_result"
    }
   ],
   "source": [
    "n_rows = range(len(small_set))\n",
    "small_set = small_set.add_column(\"idx\", n_rows)\n",
    "small_set"
   ]
  },
  {
   "cell_type": "code",
   "execution_count": 76,
   "metadata": {},
   "outputs": [
    {
     "data": {
      "text/plain": [
       "[990, 991, 992, 993, 994, 995, 996, 997, 998, 999]"
      ]
     },
     "execution_count": 76,
     "metadata": {},
     "output_type": "execute_result"
    }
   ],
   "source": [
    "small_set['idx'][-10:]"
   ]
  },
  {
   "cell_type": "code",
   "execution_count": 77,
   "metadata": {},
   "outputs": [
    {
     "data": {
      "text/plain": [
       "Dataset({\n",
       "    features: ['text', 'label', 'length_of_text', 'embedding', 'idx', 'label_names'],\n",
       "    num_rows: 1000\n",
       "})"
      ]
     },
     "execution_count": 77,
     "metadata": {},
     "output_type": "execute_result"
    }
   ],
   "source": [
    "def get_names(label_num):\n",
    "    return id2label[str(label_num)]\n",
    "\n",
    "label_names = list(map(get_names, small_set['label']))\n",
    "small_set = small_set.add_column(\"label_names\", label_names)\n",
    "small_set"
   ]
  },
  {
   "cell_type": "code",
   "execution_count": 78,
   "metadata": {},
   "outputs": [
    {
     "data": {
      "text/plain": [
       "768"
      ]
     },
     "execution_count": 78,
     "metadata": {},
     "output_type": "execute_result"
    }
   ],
   "source": [
    "dim_size = len(small_set[0][\"embedding\"]) # we'll need the dimensions of our embeddings\n",
    "dim_size"
   ]
  },
  {
   "cell_type": "markdown",
   "metadata": {},
   "source": [
    "# Semantic Search with Qdrant"
   ]
  },
  {
   "cell_type": "code",
   "execution_count": 80,
   "metadata": {},
   "outputs": [
    {
     "data": {
      "text/plain": [
       "<qdrant_client.qdrant_client.QdrantClient at 0x1f93a00f230>"
      ]
     },
     "execution_count": 80,
     "metadata": {},
     "output_type": "execute_result"
    }
   ],
   "source": [
    "from qdrant_client import QdrantClient\n",
    "from qdrant_client.http import models\n",
    "from qdrant_client.http.models import CollectionStatus\n",
    "\n",
    "client = QdrantClient(host=\"localhost\", port=6333)\n",
    "client"
   ]
  },
  {
   "cell_type": "code",
   "execution_count": 81,
   "metadata": {},
   "outputs": [
    {
     "name": "stderr",
     "output_type": "stream",
     "text": [
      "C:\\Users\\Admin\\AppData\\Local\\Temp\\ipykernel_18168\\2527313622.py:2: DeprecationWarning: `recreate_collection` method is deprecated and will be removed in the future. Use `collection_exists` to check collection existence and `create_collection` instead.\n",
      "  client.recreate_collection(\n"
     ]
    },
    {
     "data": {
      "text/plain": [
       "True"
      ]
     },
     "execution_count": 81,
     "metadata": {},
     "output_type": "execute_result"
    }
   ],
   "source": [
    "my_collection = \"news_embeddings\"\n",
    "client.recreate_collection(\n",
    "    collection_name=my_collection,\n",
    "    vectors_config=models.VectorParams(size=dim_size, distance=models.Distance.COSINE)\n",
    ")"
   ]
  },
  {
   "cell_type": "code",
   "execution_count": 82,
   "metadata": {},
   "outputs": [
    {
     "data": {
      "text/plain": [
       "[{'label_names': 'World',\n",
       "  'text': 'Bangladesh paralysed by strikes Opposition activists have brought many towns and cities in Bangladesh to a halt, the day after 18 people died in explosions at a political rally.'},\n",
       " {'label_names': 'Sports',\n",
       "  'text': 'Desiring Stability Redskins coach Joe Gibbs expects few major personnel changes in the offseason and wants to instill a culture of stability in Washington.'},\n",
       " {'label_names': 'World',\n",
       "  'text': 'Will Putin #39;s Power Play Make Russia Safer? Outwardly, Russia has not changed since the barrage of terrorist attacks that culminated in the school massacre in Beslan on Sept.'}]"
      ]
     },
     "execution_count": 82,
     "metadata": {},
     "output_type": "execute_result"
    }
   ],
   "source": [
    "payloads = small_set.select_columns([\"label_names\", \"text\"]).to_pandas().to_dict(orient=\"records\")\n",
    "payloads[:3]"
   ]
  },
  {
   "cell_type": "code",
   "execution_count": 83,
   "metadata": {},
   "outputs": [
    {
     "data": {
      "text/plain": [
       "UpdateResult(operation_id=0, status=<UpdateStatus.COMPLETED: 'completed'>)"
      ]
     },
     "execution_count": 83,
     "metadata": {},
     "output_type": "execute_result"
    }
   ],
   "source": [
    "client.upsert(\n",
    "    collection_name=my_collection,\n",
    "    points=models.Batch(\n",
    "        ids=small_set[\"idx\"],\n",
    "        vectors=small_set[\"embedding\"],\n",
    "        payloads=payloads\n",
    "    )\n",
    ")"
   ]
  },
  {
   "cell_type": "code",
   "execution_count": 84,
   "metadata": {},
   "outputs": [
    {
     "data": {
      "text/plain": [
       "([Record(id=0, payload=None, vector=None, shard_key=None),\n",
       "  Record(id=1, payload=None, vector=None, shard_key=None),\n",
       "  Record(id=2, payload=None, vector=None, shard_key=None),\n",
       "  Record(id=3, payload=None, vector=None, shard_key=None),\n",
       "  Record(id=4, payload=None, vector=None, shard_key=None),\n",
       "  Record(id=5, payload=None, vector=None, shard_key=None),\n",
       "  Record(id=6, payload=None, vector=None, shard_key=None),\n",
       "  Record(id=7, payload=None, vector=None, shard_key=None),\n",
       "  Record(id=8, payload=None, vector=None, shard_key=None),\n",
       "  Record(id=9, payload=None, vector=None, shard_key=None)],\n",
       " 10)"
      ]
     },
     "execution_count": 84,
     "metadata": {},
     "output_type": "execute_result"
    }
   ],
   "source": [
    "client.scroll(\n",
    "    collection_name=my_collection, \n",
    "    limit=10,\n",
    "    with_payload=False, # change to True to see the payload\n",
    "    with_vectors=False  # change to True to see the vectors\n",
    ")"
   ]
  },
  {
   "cell_type": "code",
   "execution_count": 85,
   "metadata": {},
   "outputs": [
    {
     "data": {
      "text/plain": [
       "('Stocks creep higher in New York NEW YORKUS blue-chip stocks ended barely higher yesterday as a spike in oil prices to record closing levels pared earlier gains and renewed concerns about the effect of high energy prices on consumer spending and corporate profits.',\n",
       " [0.12031644582748413,\n",
       "  0.04675331711769104,\n",
       "  0.1130121573805809,\n",
       "  0.44551190733909607,\n",
       "  0.05810481309890747,\n",
       "  -0.09899602830410004,\n",
       "  1.7481719255447388])"
      ]
     },
     "execution_count": 85,
     "metadata": {},
     "output_type": "execute_result"
    }
   ],
   "source": [
    "query1 = small_set[100]['embedding']\n",
    "small_set[100]['text'], query1[:7]"
   ]
  },
  {
   "cell_type": "code",
   "execution_count": 86,
   "metadata": {},
   "outputs": [
    {
     "data": {
      "text/plain": [
       "[ScoredPoint(id=100, version=0, score=0.99999994, payload={'label_names': 'Business', 'text': 'Stocks creep higher in New York NEW YORKUS blue-chip stocks ended barely higher yesterday as a spike in oil prices to record closing levels pared earlier gains and renewed concerns about the effect of high energy prices on consumer spending and corporate profits.'}, vector=None, shard_key=None),\n",
       " ScoredPoint(id=789, version=0, score=0.9995748, payload={'label_names': 'World', 'text': 'German investor confidence surges BERLIN - German investor confidence posted a surprise jump in December as relief over falling oil prices helped to offset concerns about the impact of a surging euro on growth in Europe #39;s biggest economy.'}, vector=None, shard_key=None),\n",
       " ScoredPoint(id=379, version=0, score=0.9994168, payload={'label_names': 'Business', 'text': 'German recovery already running out of steam: research institutes (AFP) AFP - The German economy, which grew strongly in the first half of this year on the back of robust exports, will see a slowdown next year as a result of the braking effects of runaway oil prices and a tailing off of foreign demand for German-made goods, top research institutes warned.'}, vector=None, shard_key=None)]"
      ]
     },
     "execution_count": 86,
     "metadata": {},
     "output_type": "execute_result"
    }
   ],
   "source": [
    "client.search(\n",
    "    collection_name=my_collection,\n",
    "    query_vector=query1,\n",
    "    limit=3\n",
    ")"
   ]
  },
  {
   "cell_type": "code",
   "execution_count": 87,
   "metadata": {},
   "outputs": [
    {
     "data": {
      "text/plain": [
       "{'text': 'Orlovsky does his level best The thought of going to Boston College, whose football camp Dan Orlovsky attended for three years when he was in high school, was dashed when the Eagles did not offer him a scholarship.'}"
      ]
     },
     "execution_count": 87,
     "metadata": {},
     "output_type": "execute_result"
    }
   ],
   "source": [
    "# Step 1 - Select Random Sample\n",
    "query2 = {\"text\": dataset[choice(range(len(dataset)))]['text']}\n",
    "query2"
   ]
  },
  {
   "cell_type": "code",
   "execution_count": 88,
   "metadata": {},
   "outputs": [
    {
     "data": {
      "text/plain": [
       "((768,),\n",
       " array([ 5.9053775e-02, -9.5939092e-02, -3.4712568e-02, -2.2227207e-01,\n",
       "         2.7226990e-01, -2.0691994e-01,  2.1684792e+00,  8.5256621e-02,\n",
       "        -1.8585290e-01,  7.7472851e-02,  3.7598482e-01,  2.2135876e-01,\n",
       "         2.1145451e-03,  7.3466830e-02,  2.9475398e-02, -3.8652301e-02,\n",
       "        -1.4886381e-01, -9.3927152e-02,  9.5500819e-02, -4.2076603e-01],\n",
       "       dtype=float32))"
      ]
     },
     "execution_count": 88,
     "metadata": {},
     "output_type": "execute_result"
    }
   ],
   "source": [
    "# Step 2 - Create a Vector\n",
    "query2 = embed_text(query2)['embedding'][0, :]\n",
    "query2.shape, query2[:20]"
   ]
  },
  {
   "cell_type": "code",
   "execution_count": 89,
   "metadata": {},
   "outputs": [
    {
     "data": {
      "text/plain": [
       "[0.059053774923086166,\n",
       " -0.09593909233808517,\n",
       " -0.034712567925453186,\n",
       " -0.22227206826210022,\n",
       " 0.2722699046134949,\n",
       " -0.20691993832588196,\n",
       " 2.1684792041778564,\n",
       " 0.08525662124156952,\n",
       " -0.18585290014743805,\n",
       " 0.07747285068035126,\n",
       " 0.3759848177433014,\n",
       " 0.2213587611913681,\n",
       " 0.002114545088261366,\n",
       " 0.07346682995557785,\n",
       " 0.029475398361682892,\n",
       " -0.03865230083465576,\n",
       " -0.1488638073205948,\n",
       " -0.09392715245485306,\n",
       " 0.09550081938505173,\n",
       " -0.42076602578163147]"
      ]
     },
     "execution_count": 89,
     "metadata": {},
     "output_type": "execute_result"
    }
   ],
   "source": [
    "query2.tolist()[:20]"
   ]
  },
  {
   "cell_type": "code",
   "execution_count": 90,
   "metadata": {},
   "outputs": [
    {
     "data": {
      "text/plain": [
       "[ScoredPoint(id=710, version=0, score=0.99958, payload={'label_names': 'Sports', 'text': 'Lucchino thinks it was a bad move The president and chief executive officer of the Red Sox thinks Pedro Martinez made the wrong decision. But Larry Lucchino nonetheless had nothing but praise for the former Red Sox ace, who decided to take a more lucrative offer and join the New York Mets.'}, vector=None, shard_key=None),\n",
       " ScoredPoint(id=337, version=0, score=0.9994819, payload={'label_names': 'Sports', 'text': 'Wenger: We do not think of a catastrophe Arsene Wenger will remind his players of their 4-0 demolition of PSV when he takes his weary team to Eindhoven for what could be the defining moment in this latest Champions League campaign.'}, vector=None, shard_key=None),\n",
       " ScoredPoint(id=31, version=0, score=0.99937814, payload={'label_names': 'Sports', 'text': 'Shanahan says he intends to honour his deal with Broncos Trying to defuse rumours he might be leaving soon, Denver Broncos coach Mike Shanahan said Thursday night he intends to honour the final four years of his contract.'}, vector=None, shard_key=None),\n",
       " ScoredPoint(id=157, version=0, score=0.99935466, payload={'label_names': 'Sports', 'text': \"Gloucester slows down Winthrop A sense of history is valuable, even in a football game. Gloucester has watched Winthrop's Anthony Fucillo walk all over the Northeastern Conference this season. Through eight games, Fucillo had thrown 11 touchdown passes and scored 87 points.\"}, vector=None, shard_key=None),\n",
       " ScoredPoint(id=685, version=0, score=0.99932104, payload={'label_names': 'Sports', 'text': 'Guillen would like to return to Angles Anaheim Angels: Outfielder Jose Guillen says he still feels emotional pain from being suspended the last eight games of the regular season and being dropped from the playoff roster.'}, vector=None, shard_key=None)]"
      ]
     },
     "execution_count": 90,
     "metadata": {},
     "output_type": "execute_result"
    }
   ],
   "source": [
    "# Step 3 - Search for similar articles. Don't forget to convert the vector to a list.\n",
    "client.search(\n",
    "    collection_name=my_collection,\n",
    "    query_vector=query2.tolist(),\n",
    "    limit=5\n",
    ")"
   ]
  },
  {
   "cell_type": "code",
   "execution_count": 92,
   "metadata": {},
   "outputs": [],
   "source": [
    "business = models.Filter(\n",
    "    must=[models.FieldCondition(key=\"label_names\", match=models.MatchValue(value=\"Business\"))]\n",
    ")"
   ]
  },
  {
   "cell_type": "code",
   "execution_count": 93,
   "metadata": {},
   "outputs": [
    {
     "data": {
      "text/plain": [
       "[ScoredPoint(id=923, version=0, score=0.9991886, payload={'label_names': 'Business', 'text': 'United Given New Deadline to Devise Plan A federal bankruptcy court judge on Friday gave United Airlines another 30 days to come up with a restructuring plan, but he warned the airline and its warring unions '}, vector=None, shard_key=None),\n",
       " ScoredPoint(id=364, version=0, score=0.9991561, payload={'label_names': 'Business', 'text': 'The right time for a long drive is... now MUMBAI: If you are thinking of buying a new car, you may as well bring forward your decision as interest rates on new car loans are likely to see a 25-50 basis points hike.'}, vector=None, shard_key=None),\n",
       " ScoredPoint(id=259, version=0, score=0.9991483, payload={'label_names': 'Business', 'text': \"Prosecutors Want Trial to Remain in Houston Federal prosecutors Friday urged a judge in Houston to keep the fraud trial of three former Enron Corp. executives in the energy trader's hometown, saying that a fair trial is possible.\"}, vector=None, shard_key=None),\n",
       " ScoredPoint(id=635, version=0, score=0.99913573, payload={'label_names': 'Business', 'text': 'Most Stolen Cars Are you driving one of the most popular cars among thieves? According to the Highway Loss Data Institute, the Cadillac Escalade luxury pick-up rates at the top of the list.'}, vector=None, shard_key=None),\n",
       " ScoredPoint(id=220, version=0, score=0.9991148, payload={'label_names': 'Business', 'text': 'Northwest to Expand in Indianapolis Northwest Airlines plans to expand in Indianapolis, a move that will knock ATA from its No. 1 spot on its home turf by offering more flights than the bankrupt carrier.'}, vector=None, shard_key=None)]"
      ]
     },
     "execution_count": 93,
     "metadata": {},
     "output_type": "execute_result"
    }
   ],
   "source": [
    "client.search(\n",
    "    collection_name=my_collection,\n",
    "    query_vector=query2.tolist(),\n",
    "    query_filter=business,\n",
    "    limit=5\n",
    ")"
   ]
  },
  {
   "cell_type": "markdown",
   "metadata": {},
   "source": [
    "# Pipeline"
   ]
  },
  {
   "cell_type": "code",
   "execution_count": 97,
   "metadata": {},
   "outputs": [],
   "source": [
    "Qs = [\n",
    "    \"COVID-19疫苗該接種幾劑?\",\n",
    "    \"可以選擇疫苗的廠牌嗎?\",\n",
    "    \"COVID-19疫苗需要以同廠牌完成接種嗎?是否可交替廠牌?\",\n",
    "    \"接種COVID-19疫苗與其他非COVID-19疫苗要間隔多久?\",\n",
    "    \"COVID-19疫苗適合接種在哪一個年齡層?\",\n",
    "    \"什麼時候輪到我接種？\",\n",
    "    \"如果我不是COVID-19疫苗計畫中的接種對象、或尚未安排到接種COVID-19疫苗，我要怎麼保護自己？\",\n",
    "    \"若我曾感染過COVID-19，我仍要接種COVID-19疫苗嗎？\",\n",
    "    \"我對雞蛋或牛奶過敏，可以接種COVID-19疫苗嗎？\",\n",
    "    \"我有過敏體質，可以接種COVID-19疫苗嗎?\",\n",
    "    \"如果我在建議接種第二劑疫苗的時間未接種到疫苗怎麼辦？\",\n",
    "    \"基礎加強劑是什麼? 什麼對象可以打基礎加強劑？\",\n",
    "    \"追加劑是什麼? 什麼對象可以打追加劑？\",\n",
    "    \"孕婦可否接種COVID-19疫苗?\",\n",
    "    \"哺乳中的婦女可否接種COVID-19疫苗?\",\n",
    "    \"兒童可否接種COVID-19疫苗?\",\n",
    "    \"接種COVID-19疫苗有什麼注意事項？\",\n",
    "    \"我曾經(或正在)參加COVID-19疫苗的臨床試驗, 還可以再接種COVID-19疫苗嗎?\",\n",
    "    \"哪些人不適合接種COVID-19疫苗 (接種禁忌症)?\",\n",
    "    \"接種COVID-19疫苗後要注意什麼？\",\n",
    "    \"當COVID-19疫苗須接種兩劑為完整接種時，若發生第一劑接種後，但尚未到第二劑接種時，確診為SARS-CoV-2感染，康復後，應何時接種同廠牌之第二劑疫苗？\",\n",
    "    \"需完成兩劑接種之COVID-19疫苗，若接種第一劑COVID-19疫苗後，如出現症狀經醫師評估懷疑與疫苗施打有關並通報至疾病管制署疫苗不良事件通報系統(VAERS)者，經醫師評估不適合再接種同樣疫苗時，第二劑不同廠牌之COVID-19疫苗，應間隔多久再接種？\",\n",
    "    \"曾有血栓病史或罹患易有血栓風險的慢性疾病者，能否接種AstraZeneca (AZ) COVID-19疫苗?\",\n",
    "    \"有心臟病史，接種mRNA COVID-19疫苗會增加心肌炎/心包膜炎的風險嗎?\",\n",
    "    \"哪些人接種mRNA COVID-19疫苗前應先諮詢心臟科醫師?\",\n",
    "    \"接種第㇐劑 mRNA COVID-19 疫苗後發生心肌炎/心包膜炎的人，可以接種第二劑嗎?\",\n",
    "    \"接種mRNA COVID-19疫苗前後要注意哪些事?\",\n",
    "    \"如果COVID-19疫苗施打的間隔不足，該怎麼辦？\",\n",
    "    \"如果COVID-19疫苗施打的劑量不足，該怎麼辦？\",\n",
    "    \"如果COVID-19疫苗施打的劑量過多，該怎麼辦？\",\n",
    "    \"什麼對象可以打第二次追加劑？可以接種什麼廠牌？\",\n",
    "    \"接種單位如遇個案體重低於同年齡平均者，是否以兒童劑型或減少劑量之COVID-19疫苗接種?\"\n",
    "]"
   ]
  },
  {
   "cell_type": "code",
   "execution_count": 99,
   "metadata": {},
   "outputs": [
    {
     "ename": "AttributeError",
     "evalue": "'list' object has no attribute 'map'",
     "output_type": "error",
     "traceback": [
      "\u001b[1;31m---------------------------------------------------------------------------\u001b[0m",
      "\u001b[1;31mAttributeError\u001b[0m                            Traceback (most recent call last)",
      "Cell \u001b[1;32mIn[99], line 2\u001b[0m\n\u001b[0;32m      1\u001b[0m ebs \u001b[38;5;241m=\u001b[39m (\n\u001b[1;32m----> 2\u001b[0m     \u001b[43mQs\u001b[49m\u001b[38;5;241;43m.\u001b[39;49m\u001b[43mmap\u001b[49m(embed_text, batched\u001b[38;5;241m=\u001b[39m\u001b[38;5;28;01mTrue\u001b[39;00m, batch_size\u001b[38;5;241m=\u001b[39m\u001b[38;5;241m128\u001b[39m) \u001b[38;5;66;03m# and apply our function above to 128 articles at a time\u001b[39;00m\n\u001b[0;32m      3\u001b[0m )\n",
      "\u001b[1;31mAttributeError\u001b[0m: 'list' object has no attribute 'map'"
     ]
    }
   ],
   "source": [
    "ebs = []"
   ]
  },
  {
   "cell_type": "code",
   "execution_count": null,
   "metadata": {},
   "outputs": [],
   "source": []
  }
 ],
 "metadata": {
  "kernelspec": {
   "display_name": "venv",
   "language": "python",
   "name": "python3"
  },
  "language_info": {
   "codemirror_mode": {
    "name": "ipython",
    "version": 3
   },
   "file_extension": ".py",
   "mimetype": "text/x-python",
   "name": "python",
   "nbconvert_exporter": "python",
   "pygments_lexer": "ipython3",
   "version": "3.12.3"
  }
 },
 "nbformat": 4,
 "nbformat_minor": 2
}
